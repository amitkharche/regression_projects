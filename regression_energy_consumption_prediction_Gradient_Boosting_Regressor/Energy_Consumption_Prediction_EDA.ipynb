{
 "cells": [
  {
   "cell_type": "markdown",
   "id": "c83e6563",
   "metadata": {},
   "source": [
    "# ⚡ Energy Consumption Prediction (Smart Grid)\n",
    "\n",
    "This notebook walks through data loading, preprocessing, EDA, and model training for predicting energy consumption using Gradient Boosting Regressor."
   ]
  },
  {
   "cell_type": "code",
   "execution_count": null,
   "id": "84d0c898",
   "metadata": {},
   "outputs": [],
   "source": [
    "# 📦 Imports\n",
    "import pandas as pd\n",
    "import numpy as np\n",
    "import matplotlib.pyplot as plt\n",
    "import seaborn as sns\n",
    "from sklearn.model_selection import train_test_split\n",
    "from sklearn.preprocessing import StandardScaler\n",
    "from sklearn.pipeline import Pipeline\n",
    "from sklearn.ensemble import GradientBoostingRegressor\n",
    "from sklearn.metrics import mean_absolute_error, mean_squared_error, r2_score\n",
    "import warnings\n",
    "warnings.filterwarnings(\"ignore\")\n"
   ]
  },
  {
   "cell_type": "markdown",
   "id": "26c38982",
   "metadata": {},
   "source": [
    "## 📂 Load Dataset"
   ]
  },
  {
   "cell_type": "code",
   "execution_count": null,
   "id": "a0b82c56",
   "metadata": {},
   "outputs": [],
   "source": [
    "# ✅ Update this path if dataset is located elsewhere\n",
    "file_path = \"data/energy_data.csv\"\n",
    "\n",
    "# Load data\n",
    "df = pd.read_csv(file_path, parse_dates=[\"DateTime\"])\n",
    "df.head()"
   ]
  },
  {
   "cell_type": "markdown",
   "id": "7d32a735",
   "metadata": {},
   "source": [
    "## 📊 Basic Info & Statistics"
   ]
  },
  {
   "cell_type": "code",
   "execution_count": null,
   "id": "c5053f5b",
   "metadata": {},
   "outputs": [],
   "source": [
    "df.info()\n"
   ]
  },
  {
   "cell_type": "code",
   "execution_count": null,
   "id": "89b1b4eb",
   "metadata": {},
   "outputs": [],
   "source": [
    "df.describe()\n"
   ]
  },
  {
   "cell_type": "markdown",
   "id": "cb61d2ff",
   "metadata": {},
   "source": [
    "## 🧪 Feature Engineering"
   ]
  },
  {
   "cell_type": "code",
   "execution_count": null,
   "id": "71a051c3",
   "metadata": {},
   "outputs": [],
   "source": [
    "df[\"Hour\"] = df[\"DateTime\"].dt.hour\n",
    "df[\"DayOfWeek\"] = df[\"DateTime\"].dt.dayofweek\n",
    "df.head()\n"
   ]
  },
  {
   "cell_type": "markdown",
   "id": "a2f6c006",
   "metadata": {},
   "source": [
    "## 📈 Exploratory Data Analysis"
   ]
  },
  {
   "cell_type": "code",
   "execution_count": null,
   "id": "64d6616e",
   "metadata": {},
   "outputs": [],
   "source": [
    "# Plot energy consumption over time\n",
    "plt.figure(figsize=(15,4))\n",
    "plt.plot(df[\"DateTime\"], df[\"EnergyConsumption\"])\n",
    "plt.title(\"Energy Consumption Over Time\")\n",
    "plt.xlabel(\"Time\")\n",
    "plt.ylabel(\"Energy Consumption\")\n",
    "plt.show()\n"
   ]
  },
  {
   "cell_type": "code",
   "execution_count": null,
   "id": "c495d026",
   "metadata": {},
   "outputs": [],
   "source": [
    "# Correlation matrix\n",
    "plt.figure(figsize=(10, 6))\n",
    "sns.heatmap(df.corr(), annot=True, fmt=\".2f\", cmap=\"coolwarm\")\n",
    "plt.title(\"Correlation Matrix\")\n",
    "plt.show()\n"
   ]
  },
  {
   "cell_type": "markdown",
   "id": "60f6b2d9",
   "metadata": {},
   "source": [
    "## 🤖 Model Training"
   ]
  },
  {
   "cell_type": "code",
   "execution_count": null,
   "id": "83d38624",
   "metadata": {},
   "outputs": [],
   "source": [
    "# Define features and target\n",
    "features = [\"Temperature\", \"Humidity\", \"ApplianceUsage\", \"LightUsage\", \"Occupancy\", \"Hour\", \"DayOfWeek\"]\n",
    "target = \"EnergyConsumption\"\n",
    "\n",
    "X = df[features]\n",
    "y = df[target]\n",
    "\n",
    "# Train-test split\n",
    "X_train, X_test, y_train, y_test = train_test_split(X, y, test_size=0.2, random_state=42)\n",
    "\n",
    "# Gradient Boosting pipeline\n",
    "pipeline = Pipeline([\n",
    "    (\"scaler\", StandardScaler()),\n",
    "    (\"model\", GradientBoostingRegressor(n_estimators=200, max_depth=4, random_state=42))\n",
    "])\n",
    "\n",
    "pipeline.fit(X_train, y_train)\n",
    "y_pred = pipeline.predict(X_test)\n"
   ]
  },
  {
   "cell_type": "markdown",
   "id": "6a4441ca",
   "metadata": {},
   "source": [
    "## 📊 Evaluation Metrics"
   ]
  },
  {
   "cell_type": "code",
   "execution_count": null,
   "id": "02ebe466",
   "metadata": {},
   "outputs": [],
   "source": [
    "mae = mean_absolute_error(y_test, y_pred)\n",
    "rmse = mean_squared_error(y_test, y_pred, squared=False)\n",
    "r2 = r2_score(y_test, y_pred)\n",
    "\n",
    "print(f\"MAE: {mae:.2f}\")\n",
    "print(f\"RMSE: {rmse:.2f}\")\n",
    "print(f\"R² Score: {r2:.2f}\")\n"
   ]
  },
  {
   "cell_type": "code",
   "execution_count": null,
   "id": "b297c2a4",
   "metadata": {},
   "outputs": [],
   "source": [
    "# Plot actual vs predicted\n",
    "plt.figure(figsize=(10, 6))\n",
    "plt.scatter(y_test, y_pred, alpha=0.3)\n",
    "plt.xlabel(\"Actual Energy Consumption\")\n",
    "plt.ylabel(\"Predicted Energy Consumption\")\n",
    "plt.title(\"Actual vs Predicted Energy Consumption\")\n",
    "plt.grid(True)\n",
    "plt.show()\n"
   ]
  }
 ],
 "metadata": {},
 "nbformat": 4,
 "nbformat_minor": 5
}
