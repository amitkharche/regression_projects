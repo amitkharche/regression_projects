{
 "cells": [
  {
   "cell_type": "markdown",
   "id": "20ed23b1",
   "metadata": {},
   "source": [
    "# 🛍️ Sales Forecasting Project - Multi-Model Evaluation\n",
    "\n",
    "This notebook demonstrates sales forecasting using multiple models:\n",
    "- Random Forest\n",
    "- XGBoost\n",
    "- CatBoost\n",
    "- Prophet (time series model)\n",
    "\n",
    "We'll perform EDA, feature extraction, training, and evaluation."
   ]
  },
  {
   "cell_type": "code",
   "execution_count": null,
   "id": "3e06bd76",
   "metadata": {},
   "outputs": [],
   "source": [
    "# 📦 Imports\n",
    "import pandas as pd\n",
    "import numpy as np\n",
    "import matplotlib.pyplot as plt\n",
    "import seaborn as sns\n",
    "from sklearn.model_selection import train_test_split\n",
    "from sklearn.preprocessing import OneHotEncoder\n",
    "from sklearn.pipeline import Pipeline\n",
    "from sklearn.compose import ColumnTransformer\n",
    "from sklearn.ensemble import RandomForestRegressor\n",
    "from xgboost import XGBRegressor\n",
    "from catboost import CatBoostRegressor\n",
    "from sklearn.metrics import mean_squared_error, mean_absolute_error, r2_score\n",
    "from prophet import Prophet\n",
    "import warnings\n",
    "warnings.filterwarnings(\"ignore\")\n"
   ]
  },
  {
   "cell_type": "markdown",
   "id": "883e66f8",
   "metadata": {},
   "source": [
    "## 📂 Load Dataset"
   ]
  },
  {
   "cell_type": "code",
   "execution_count": null,
   "id": "5bb8626b",
   "metadata": {},
   "outputs": [],
   "source": [
    "# ✅ Change this path if needed\n",
    "file_path = \"data/sales_data.csv\"\n",
    "df = pd.read_csv(file_path, parse_dates=[\"Date\"])\n",
    "df.head()\n"
   ]
  },
  {
   "cell_type": "markdown",
   "id": "0b79f769",
   "metadata": {},
   "source": [
    "## 📊 Data Overview"
   ]
  },
  {
   "cell_type": "code",
   "execution_count": null,
   "id": "09a1ef31",
   "metadata": {},
   "outputs": [],
   "source": [
    "df.describe()"
   ]
  },
  {
   "cell_type": "code",
   "execution_count": null,
   "id": "9ae4a5d0",
   "metadata": {},
   "outputs": [],
   "source": [
    "df.info()"
   ]
  },
  {
   "cell_type": "markdown",
   "id": "702c48d0",
   "metadata": {},
   "source": [
    "## 🧪 Feature Engineering"
   ]
  },
  {
   "cell_type": "code",
   "execution_count": null,
   "id": "4cb8b3eb",
   "metadata": {},
   "outputs": [],
   "source": [
    "df[\"Week\"] = df[\"Date\"].dt.isocalendar().week\n",
    "df[\"Month\"] = df[\"Date\"].dt.month\n",
    "df[\"Year\"] = df[\"Date\"].dt.year\n",
    "df.head()"
   ]
  },
  {
   "cell_type": "markdown",
   "id": "7af5ed8d",
   "metadata": {},
   "source": [
    "## 📈 Sales Trend Overview"
   ]
  },
  {
   "cell_type": "code",
   "execution_count": null,
   "id": "20372316",
   "metadata": {},
   "outputs": [],
   "source": [
    "plt.figure(figsize=(14, 5))\n",
    "sns.lineplot(data=df.groupby(\"Date\")[\"Sales\"].sum())\n",
    "plt.title(\"Total Weekly Sales Over Time\")\n",
    "plt.ylabel(\"Sales\")\n",
    "plt.grid(True)\n",
    "plt.show()"
   ]
  },
  {
   "cell_type": "markdown",
   "id": "570b148f",
   "metadata": {},
   "source": [
    "## 🤖 Model 1: Random Forest, XGBoost, CatBoost"
   ]
  },
  {
   "cell_type": "code",
   "execution_count": null,
   "id": "1f99e543",
   "metadata": {},
   "outputs": [],
   "source": [
    "\n",
    "# Features and target\n",
    "X = df[[\"Store\", \"Promo\", \"Week\", \"Month\", \"Year\"]]\n",
    "y = df[\"Sales\"]\n",
    "\n",
    "categorical_features = [\"Store\"]\n",
    "numeric_features = [\"Promo\", \"Week\", \"Month\", \"Year\"]\n",
    "\n",
    "preprocessor = ColumnTransformer([\n",
    "    (\"cat\", OneHotEncoder(handle_unknown=\"ignore\"), categorical_features)\n",
    "], remainder=\"passthrough\")\n",
    "\n",
    "# Split data\n",
    "X_train, X_test, y_train, y_test = train_test_split(X, y, test_size=0.2, random_state=42)\n",
    "\n",
    "# Define models\n",
    "models = {\n",
    "    \"RandomForest\": RandomForestRegressor(n_estimators=100, random_state=42),\n",
    "    \"XGBoost\": XGBRegressor(n_estimators=100, random_state=42),\n",
    "    \"CatBoost\": CatBoostRegressor(verbose=0, random_state=42)\n",
    "}\n",
    "\n",
    "# Train and evaluate\n",
    "results = {}\n",
    "for name, model in models.items():\n",
    "    pipe = Pipeline([\n",
    "        (\"preprocessor\", preprocessor),\n",
    "        (\"regressor\", model)\n",
    "    ])\n",
    "    pipe.fit(X_train, y_train)\n",
    "    preds = pipe.predict(X_test)\n",
    "    results[name] = {\n",
    "        \"MAE\": mean_absolute_error(y_test, preds),\n",
    "        \"RMSE\": mean_squared_error(y_test, preds, squared=False),\n",
    "        \"R2\": r2_score(y_test, preds)\n",
    "    }\n",
    "\n",
    "# Display results\n",
    "pd.DataFrame(results).T\n"
   ]
  },
  {
   "cell_type": "markdown",
   "id": "fd7af583",
   "metadata": {},
   "source": [
    "## 🔮 Model 2: Prophet (Time Series)"
   ]
  },
  {
   "cell_type": "code",
   "execution_count": null,
   "id": "df1e3bf1",
   "metadata": {},
   "outputs": [],
   "source": [
    "\n",
    "# Aggregate total sales for Prophet\n",
    "df_prophet = df.groupby(\"Date\")[[\"Sales\"]].sum().reset_index()\n",
    "df_prophet.columns = [\"ds\", \"y\"]\n",
    "\n",
    "model = Prophet()\n",
    "model.fit(df_prophet)\n",
    "\n",
    "future = model.make_future_dataframe(periods=12, freq=\"W\")\n",
    "forecast = model.predict(future)\n",
    "\n",
    "# Plot forecast\n",
    "model.plot(forecast)\n",
    "plt.title(\"Prophet Forecast: Weekly Sales\")\n",
    "plt.show()\n"
   ]
  },
  {
   "cell_type": "markdown",
   "id": "b3a091f9",
   "metadata": {},
   "source": [
    "## ✅ Summary & Observations"
   ]
  },
  {
   "cell_type": "code",
   "execution_count": null,
   "id": "7a3ac3c4",
   "metadata": {},
   "outputs": [],
   "source": [
    "# Compare Prophet with other models visually\n",
    "forecast_tail = forecast.set_index(\"ds\")[[\"yhat\"]].rename(columns={\"yhat\": \"Prophet_Predicted\"})\n",
    "actual = df_prophet.set_index(\"ds\")[[\"y\"]].rename(columns={\"y\": \"Actual_Sales\"})\n",
    "merged = pd.concat([actual, forecast_tail], axis=1).dropna()\n",
    "\n",
    "plt.figure(figsize=(14, 5))\n",
    "plt.plot(merged.index, merged[\"Actual_Sales\"], label=\"Actual\")\n",
    "plt.plot(merged.index, merged[\"Prophet_Predicted\"], label=\"Prophet Forecast\")\n",
    "plt.legend()\n",
    "plt.title(\"Actual vs Prophet Forecast\")\n",
    "plt.grid(True)\n",
    "plt.show()\n"
   ]
  }
 ],
 "metadata": {},
 "nbformat": 4,
 "nbformat_minor": 5
}
