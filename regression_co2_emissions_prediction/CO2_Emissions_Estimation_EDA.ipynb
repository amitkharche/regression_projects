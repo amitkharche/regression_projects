{
 "cells": [
  {
   "cell_type": "markdown",
   "id": "89ea7e02",
   "metadata": {},
   "source": [
    "# 🌍 CO2 Emissions Estimation from Vehicle Specs\n",
    "\n",
    "This notebook demonstrates how to predict vehicle CO2 emissions using features like engine size, fuel consumption, and fuel type. We use a regression model (Random Forest) with feature scaling and categorical encoding."
   ]
  },
  {
   "cell_type": "code",
   "execution_count": null,
   "id": "1e4941ac",
   "metadata": {},
   "outputs": [],
   "source": [
    "# 📦 Imports\n",
    "import pandas as pd\n",
    "import numpy as np\n",
    "import matplotlib.pyplot as plt\n",
    "import seaborn as sns\n",
    "from sklearn.model_selection import train_test_split\n",
    "from sklearn.preprocessing import StandardScaler, OneHotEncoder\n",
    "from sklearn.pipeline import Pipeline\n",
    "from sklearn.compose import ColumnTransformer\n",
    "from sklearn.ensemble import RandomForestRegressor\n",
    "from sklearn.metrics import mean_absolute_error, mean_squared_error, r2_score\n",
    "import warnings\n",
    "warnings.filterwarnings(\"ignore\")\n"
   ]
  },
  {
   "cell_type": "markdown",
   "id": "d9785199",
   "metadata": {},
   "source": [
    "## 📂 Load Dataset"
   ]
  },
  {
   "cell_type": "code",
   "execution_count": null,
   "id": "772f2a77",
   "metadata": {},
   "outputs": [],
   "source": [
    "# Update path as needed\n",
    "df = pd.read_csv(\"co2_emissions.csv\")\n",
    "df.head()"
   ]
  },
  {
   "cell_type": "markdown",
   "id": "041eeaab",
   "metadata": {},
   "source": [
    "## 🧾 Dataset Overview"
   ]
  },
  {
   "cell_type": "code",
   "execution_count": null,
   "id": "236be27d",
   "metadata": {},
   "outputs": [],
   "source": [
    "df.info()"
   ]
  },
  {
   "cell_type": "code",
   "execution_count": null,
   "id": "c9e68e94",
   "metadata": {},
   "outputs": [],
   "source": [
    "df.describe()"
   ]
  },
  {
   "cell_type": "markdown",
   "id": "65593992",
   "metadata": {},
   "source": [
    "## 📊 Data Visualization and Correlations"
   ]
  },
  {
   "cell_type": "code",
   "execution_count": null,
   "id": "274ec3fb",
   "metadata": {},
   "outputs": [],
   "source": [
    "sns.pairplot(df[['EngineSize', 'FuelConsumption_Comb', 'Cylinders', 'CO2Emissions']])\n",
    "plt.suptitle(\"Pairwise Relationships\", y=1.02)\n",
    "plt.show()"
   ]
  },
  {
   "cell_type": "code",
   "execution_count": null,
   "id": "1047fad2",
   "metadata": {},
   "outputs": [],
   "source": [
    "plt.figure(figsize=(10, 6))\n",
    "sns.heatmap(df.corr(), annot=True, cmap=\"coolwarm\")\n",
    "plt.title(\"Correlation Heatmap\")\n",
    "plt.show()"
   ]
  },
  {
   "cell_type": "markdown",
   "id": "a7b3c3e2",
   "metadata": {},
   "source": [
    "## 🛠️ Feature and Target Separation"
   ]
  },
  {
   "cell_type": "code",
   "execution_count": null,
   "id": "4a433fda",
   "metadata": {},
   "outputs": [],
   "source": [
    "X = df.drop(columns=[\"CO2Emissions\"])\n",
    "y = df[\"CO2Emissions\"]\n",
    "\n",
    "numeric_features = [\"EngineSize\", \"Cylinders\", \"FuelConsumption_City\", \"FuelConsumption_Hwy\", \"FuelConsumption_Comb\"]\n",
    "categorical_features = [\"FuelType\"]\n"
   ]
  },
  {
   "cell_type": "markdown",
   "id": "1f87ffc7",
   "metadata": {},
   "source": [
    "## 🔀 Train/Test Split"
   ]
  },
  {
   "cell_type": "code",
   "execution_count": null,
   "id": "8313909b",
   "metadata": {},
   "outputs": [],
   "source": [
    "X_train, X_test, y_train, y_test = train_test_split(X, y, test_size=0.2, random_state=42)"
   ]
  },
  {
   "cell_type": "markdown",
   "id": "9748e203",
   "metadata": {},
   "source": [
    "## 🤖 Model Training: Random Forest Regressor"
   ]
  },
  {
   "cell_type": "code",
   "execution_count": null,
   "id": "d83eae5b",
   "metadata": {},
   "outputs": [],
   "source": [
    "\n",
    "preprocessor = ColumnTransformer([\n",
    "    (\"num\", StandardScaler(), numeric_features),\n",
    "    (\"cat\", OneHotEncoder(), categorical_features)\n",
    "])\n",
    "\n",
    "pipeline = Pipeline([\n",
    "    (\"preprocessor\", preprocessor),\n",
    "    (\"model\", RandomForestRegressor(n_estimators=100, random_state=42))\n",
    "])\n",
    "\n",
    "pipeline.fit(X_train, y_train)\n",
    "y_pred = pipeline.predict(X_test)\n"
   ]
  },
  {
   "cell_type": "markdown",
   "id": "3e237441",
   "metadata": {},
   "source": [
    "## 📈 Model Evaluation"
   ]
  },
  {
   "cell_type": "code",
   "execution_count": null,
   "id": "d760bfe5",
   "metadata": {},
   "outputs": [],
   "source": [
    "\n",
    "mae = mean_absolute_error(y_test, y_pred)\n",
    "rmse = mean_squared_error(y_test, y_pred, squared=False)\n",
    "r2 = r2_score(y_test, y_pred)\n",
    "\n",
    "print(f\"MAE: {mae:.2f}\")\n",
    "print(f\"RMSE: {rmse:.2f}\")\n",
    "print(f\"R² Score: {r2:.2f}\")\n"
   ]
  },
  {
   "cell_type": "markdown",
   "id": "1cfc1c27",
   "metadata": {},
   "source": [
    "## 🧪 Actual vs Predicted CO2 Emissions"
   ]
  },
  {
   "cell_type": "code",
   "execution_count": null,
   "id": "393a0fe5",
   "metadata": {},
   "outputs": [],
   "source": [
    "\n",
    "plt.figure(figsize=(8,6))\n",
    "plt.scatter(y_test, y_pred, alpha=0.4)\n",
    "plt.plot([y_test.min(), y_test.max()], [y_test.min(), y_test.max()], \"r--\")\n",
    "plt.xlabel(\"Actual CO2 Emissions\")\n",
    "plt.ylabel(\"Predicted CO2 Emissions\")\n",
    "plt.title(\"Actual vs Predicted CO2 Emissions\")\n",
    "plt.grid(True)\n",
    "plt.show()\n"
   ]
  }
 ],
 "metadata": {},
 "nbformat": 4,
 "nbformat_minor": 5
}
